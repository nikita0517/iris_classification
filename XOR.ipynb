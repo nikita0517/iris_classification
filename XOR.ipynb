{
  "nbformat": 4,
  "nbformat_minor": 0,
  "metadata": {
    "colab": {
      "name": "XOR",
      "provenance": [],
      "authorship_tag": "ABX9TyO9wCP3L+qGGP/9fPH4t0wl",
      "include_colab_link": true
    },
    "kernelspec": {
      "name": "python3",
      "display_name": "Python 3"
    },
    "language_info": {
      "name": "python"
    }
  },
  "cells": [
    {
      "cell_type": "markdown",
      "metadata": {
        "id": "view-in-github",
        "colab_type": "text"
      },
      "source": [
        "<a href=\"https://colab.research.google.com/github/nikita0517/iris_classification/blob/main/XOR.ipynb\" target=\"_parent\"><img src=\"https://colab.research.google.com/assets/colab-badge.svg\" alt=\"Open In Colab\"/></a>"
      ]
    },
    {
      "cell_type": "code",
      "metadata": {
        "id": "-Y2eqvOQC90t"
      },
      "source": [
        "import numpy as np"
      ],
      "execution_count": 1,
      "outputs": []
    },
    {
      "cell_type": "code",
      "metadata": {
        "id": "5EaBQUnQHJs0"
      },
      "source": [
        "import sys"
      ],
      "execution_count": 19,
      "outputs": []
    },
    {
      "cell_type": "code",
      "metadata": {
        "id": "AvOGXbXMDIXT"
      },
      "source": [
        "X=np.array([[0, 1],[1, 0],[1, 1],[0, 0]])\n",
        "Y=np.array([[1],[1],[0],[0]])"
      ],
      "execution_count": 22,
      "outputs": []
    },
    {
      "cell_type": "code",
      "metadata": {
        "id": "1wK1PmuTDfuW"
      },
      "source": [
        "num_i_units = 2 # Number of Input units\n",
        "num_h_units = 2 # Number of Hidden units\n",
        "num_o_units = 1 # Number of Output units"
      ],
      "execution_count": 6,
      "outputs": []
    },
    {
      "cell_type": "code",
      "metadata": {
        "id": "Qy_PpyNwF9SW"
      },
      "source": [
        "learning_rate = 0.01\n",
        "# The parameter to help with overfitting.\n",
        "reg_param = 0\n",
        "# Maximum iterations for Gradient Descent.\n",
        "max_iter = 5000\n",
        "# Number of training examples\n",
        "m = 4"
      ],
      "execution_count": 7,
      "outputs": []
    },
    {
      "cell_type": "code",
      "metadata": {
        "id": "8tqes6nlDjln"
      },
      "source": [
        "np.random.seed(1)\n",
        "W1 = np.random.normal(0, 1, (num_h_units, num_i_units)) # 2x2\n",
        "W2 = np.random.normal(0, 1, (num_o_units, num_h_units)) # 1x2\n",
        "B1 = np.random.random((num_h_units, 1)) # 2x1\n",
        "B2 = np.random.random((num_o_units, 1)) # 1x1"
      ],
      "execution_count": 8,
      "outputs": []
    },
    {
      "cell_type": "code",
      "metadata": {
        "colab": {
          "base_uri": "https://localhost:8080/"
        },
        "id": "TwJYY77sGId4",
        "outputId": "1aba919a-cc87-4942-8790-d4a15ecced64"
      },
      "source": [
        "W1"
      ],
      "execution_count": 9,
      "outputs": [
        {
          "output_type": "execute_result",
          "data": {
            "text/plain": [
              "array([[ 1.62434536, -0.61175641],\n",
              "       [-0.52817175, -1.07296862]])"
            ]
          },
          "metadata": {},
          "execution_count": 9
        }
      ]
    },
    {
      "cell_type": "code",
      "metadata": {
        "colab": {
          "base_uri": "https://localhost:8080/"
        },
        "id": "xmgz3aUsGN-K",
        "outputId": "ff9cf332-4dfc-42c6-e9fb-450f5e919288"
      },
      "source": [
        "W2"
      ],
      "execution_count": 10,
      "outputs": [
        {
          "output_type": "execute_result",
          "data": {
            "text/plain": [
              "array([[ 0.86540763, -2.3015387 ]])"
            ]
          },
          "metadata": {},
          "execution_count": 10
        }
      ]
    },
    {
      "cell_type": "code",
      "metadata": {
        "colab": {
          "base_uri": "https://localhost:8080/"
        },
        "id": "R77TDgpWGPYX",
        "outputId": "2e1bbb02-1d81-4c0c-ef83-44486f2894da"
      },
      "source": [
        "B1"
      ],
      "execution_count": 11,
      "outputs": [
        {
          "output_type": "execute_result",
          "data": {
            "text/plain": [
              "array([[0.41919451],\n",
              "       [0.6852195 ]])"
            ]
          },
          "metadata": {},
          "execution_count": 11
        }
      ]
    },
    {
      "cell_type": "code",
      "metadata": {
        "colab": {
          "base_uri": "https://localhost:8080/"
        },
        "id": "xGhHOJOlGRFY",
        "outputId": "425896a7-4839-4e71-c778-f89a61836646"
      },
      "source": [
        "B2"
      ],
      "execution_count": 12,
      "outputs": [
        {
          "output_type": "execute_result",
          "data": {
            "text/plain": [
              "array([[0.20445225]])"
            ]
          },
          "metadata": {},
          "execution_count": 12
        }
      ]
    },
    {
      "cell_type": "code",
      "metadata": {
        "id": "l3z57w7NGX8G"
      },
      "source": [
        "def sigmoid(z, derv=False):\n",
        "    if derv: return z * (1 - z)\n",
        "    return 1 / (1 + np.exp(-z))"
      ],
      "execution_count": 13,
      "outputs": []
    },
    {
      "cell_type": "code",
      "metadata": {
        "id": "sw2_JqGvGcI-"
      },
      "source": [
        "def forward(x, predict=False):\n",
        "    a1 = x.reshape(x.shape[0], 1) \n",
        "    z2 = W1.dot(a1) + B1 \n",
        "    a2 = sigmoid(z2) \n",
        "    z3 = W2.dot(a2) + B2 \n",
        "    a3 = sigmoid(z3)\n",
        "\n",
        "    if predict: return a3\n",
        "    return (a1, a2, a3)"
      ],
      "execution_count": 15,
      "outputs": []
    },
    {
      "cell_type": "code",
      "metadata": {
        "id": "HyaAt_EjGhuq"
      },
      "source": [
        "dW1 = 0 \n",
        "dW2 = 0\n",
        "dB1 = 0 \n",
        "dB2 = 0 \n",
        "\n",
        "cost = np.zeros((max_iter, 1))"
      ],
      "execution_count": 16,
      "outputs": []
    },
    {
      "cell_type": "code",
      "metadata": {
        "id": "I2U8xubZGr-x"
      },
      "source": [
        "def train(_W1, _W2, _B1, _B2): # The arguments are to bypass UnboundLocalError error\n",
        "    for i in range(max_iter):\n",
        "        c = 0\n",
        "        \n",
        "        dW1 = 0\n",
        "        dW2 = 0\n",
        "\n",
        "        dB1 = 0\n",
        "        dB2 = 0\n",
        "        \n",
        "        for j in range(m):\n",
        "            sys.stdout.write(\"\\rIteration: {} and {}\".format(i + 1, j + 1))\n",
        "\n",
        "          \n",
        "            a0 = X[j].reshape(X[j].shape[0], 1) \n",
        "\n",
        "            z1 = _W1.dot(a0) + _B1\n",
        "            a1 = sigmoid(z1) \n",
        "\n",
        "            z2 = _W2.dot(a1) + _B2 \n",
        "            a2 = sigmoid(z2) \n",
        "\n",
        "           \n",
        "            dz2 = a2 - Y[j] \n",
        "            dW2 += dz2 * a1.T \n",
        "\n",
        "            dz1 = np.multiply((_W2.T * dz2), sigmoid(a1, derv=True)) \n",
        "            dW1 += dz1.dot(a0.T) \n",
        "\n",
        "            dB1 += dz1 \n",
        "            dB2 += dz2 \n",
        "            c = c + (-(Y[j] * np.log(a2)) - ((1 - Y[j]) * np.log(1 - a2)))\n",
        "            sys.stdout.flush() \n",
        "        \n",
        "        _W1 = _W1 - learning_rate * (dW1 / m) + ( (reg_param / m) * _W1)\n",
        "        _W2 = _W2 - learning_rate * (dW2 / m) + ( (reg_param / m) * _W2)\n",
        "\n",
        "        _B1 = _B1 - learning_rate * (dB1 / m)\n",
        "        _B2 = _B2 - learning_rate * (dB2 / m)\n",
        "        cost[i] = (c / m) + ( \n",
        "            (reg_param / (2 * m)) * \n",
        "            (\n",
        "                np.sum(np.power(_W1, 2)) + \n",
        "                np.sum(np.power(_W2, 2))\n",
        "            )\n",
        "        )\n",
        "    return (_W1, _W2, _B1, _B2)"
      ],
      "execution_count": 26,
      "outputs": []
    },
    {
      "cell_type": "code",
      "metadata": {
        "colab": {
          "base_uri": "https://localhost:8080/"
        },
        "id": "L-5BFywlG9A8",
        "outputId": "8fcd924e-b296-487f-c4c4-7d9402bdea56"
      },
      "source": [
        "W1, W2, B1, B2 = train(W1, W2, B1, B2)"
      ],
      "execution_count": 27,
      "outputs": [
        {
          "output_type": "stream",
          "name": "stdout",
          "text": [
            "Iteration: 5000 and 4"
          ]
        }
      ]
    },
    {
      "cell_type": "code",
      "metadata": {
        "colab": {
          "base_uri": "https://localhost:8080/"
        },
        "id": "MjiuoHtcIAvC",
        "outputId": "df07d0af-4595-4f7c-9c1b-86623ed8ae86"
      },
      "source": [
        "W1"
      ],
      "execution_count": 30,
      "outputs": [
        {
          "output_type": "execute_result",
          "data": {
            "text/plain": [
              "array([[ 1.32260643, -0.42332921],\n",
              "       [-1.4336158 , -1.67239068]])"
            ]
          },
          "metadata": {},
          "execution_count": 30
        }
      ]
    },
    {
      "cell_type": "code",
      "metadata": {
        "colab": {
          "base_uri": "https://localhost:8080/"
        },
        "id": "2i7fkYy3IB2m",
        "outputId": "7f4d4500-d4d7-4bb2-a90a-66723567b446"
      },
      "source": [
        "W2"
      ],
      "execution_count": 31,
      "outputs": [
        {
          "output_type": "execute_result",
          "data": {
            "text/plain": [
              "array([[ 0.25299514, -2.21317287]])"
            ]
          },
          "metadata": {},
          "execution_count": 31
        }
      ]
    },
    {
      "cell_type": "code",
      "metadata": {
        "colab": {
          "base_uri": "https://localhost:8080/"
        },
        "id": "NfB0lhw9IC_W",
        "outputId": "688cb063-a211-4f4e-9bf3-1a5aea12f9cc"
      },
      "source": [
        "B1"
      ],
      "execution_count": 32,
      "outputs": [
        {
          "output_type": "execute_result",
          "data": {
            "text/plain": [
              "array([[ 0.37348207],\n",
              "       [-0.22080277]])"
            ]
          },
          "metadata": {},
          "execution_count": 32
        }
      ]
    },
    {
      "cell_type": "code",
      "metadata": {
        "id": "h3-5LwOyID5v"
      },
      "source": [
        "B2"
      ],
      "execution_count": null,
      "outputs": []
    }
  ]
}